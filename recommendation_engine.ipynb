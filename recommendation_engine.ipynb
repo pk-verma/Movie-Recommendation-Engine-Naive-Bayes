{
 "cells": [
  {
   "cell_type": "markdown",
   "metadata": {},
   "source": [
    "## Import all the necessary libraries"
   ]
  },
  {
   "cell_type": "code",
   "execution_count": 1,
   "metadata": {},
   "outputs": [],
   "source": [
    "import numpy as np\n",
    "from collections import defaultdict\n",
    "data_path = 'ml-latest-small/ratings.csv'\n",
    "n_users = 6040\n",
    "n_movies = 3706"
   ]
  },
  {
   "cell_type": "markdown",
   "metadata": {},
   "source": [
    "### Function to load the rating data from dataset"
   ]
  },
  {
   "cell_type": "code",
   "execution_count": 2,
   "metadata": {},
   "outputs": [
    {
     "data": {
      "text/plain": [
       "'\\n- Efficient File Reading: The file is read line-by-line, and the header row is skipped using next(file).\\n- Mapping Movie IDs: The movie ID mapping is done in a single pass, and the mapping is only updated \\n    if the current movie index is within bounds.\\n- Streamlined Logic: Combined checks and assignments to ensure only valid movie IDs are processed.\\n'"
      ]
     },
     "execution_count": 2,
     "metadata": {},
     "output_type": "execute_result"
    }
   ],
   "source": [
    "def load_rating_data(data_path, n_users, n_movies):\n",
    "    \"\"\"\n",
    "    Load rating data from file and also return the number of\n",
    "    ratings for each movie and movie_id index mapping.\n",
    "\n",
    "    @param data_path: path of the rating data file\n",
    "    @param n_users: number of users\n",
    "    @param n_movies: number of movies that have ratings\n",
    "    @return: rating data in the numpy array of [user, movie];\n",
    "             movie_n_rating, {movie_id: number of ratings};\n",
    "             movie_id_mapping, {movie_id: column index in rating data}\n",
    "    \"\"\"\n",
    "\n",
    "    data = np.zeros((n_users, n_movies), dtype=np.float32)\n",
    "    movie_id_mapping = {}\n",
    "    movie_n_rating = defaultdict(int)\n",
    "    current_movie_index = 0\n",
    "\n",
    "    with open(data_path, 'r') as file:\n",
    "        next(file)  # Skiping the header row\n",
    "\n",
    "        for line in file:\n",
    "            user_id, movie_id, rating, _ = line.strip().split(',')\n",
    "            user_id = int(user_id) - 1\n",
    "            movie_id = int(movie_id)\n",
    "            rating = float(rating)\n",
    "\n",
    "            if movie_id not in movie_id_mapping:\n",
    "                if current_movie_index >= n_movies:\n",
    "                    continue\n",
    "                movie_id_mapping[movie_id] = current_movie_index\n",
    "                current_movie_index += 1\n",
    "\n",
    "            movie_index = movie_id_mapping[movie_id]\n",
    "            data[user_id, movie_index] = rating\n",
    "            if rating > 0:\n",
    "                movie_n_rating[movie_id] += 1\n",
    "\n",
    "    return data, movie_n_rating, movie_id_mapping\n",
    "\n",
    "\"\"\"\n",
    "- Efficient File Reading: The file is read line-by-line, and the header row is skipped using next(file).\n",
    "- Mapping Movie IDs: The movie ID mapping is done in a single pass, and the mapping is only updated \n",
    "    if the current movie index is within bounds.\n",
    "- Streamlined Logic: Combined checks and assignments to ensure only valid movie IDs are processed.\n",
    "\"\"\""
   ]
  },
  {
   "cell_type": "markdown",
   "metadata": {},
   "source": [
    "### Loading data "
   ]
  },
  {
   "cell_type": "code",
   "execution_count": 3,
   "metadata": {},
   "outputs": [],
   "source": [
    "data, movie_n_rating, movie_id_mapping = load_rating_data(data_path, n_users, n_movies)"
   ]
  },
  {
   "cell_type": "code",
   "execution_count": null,
   "metadata": {},
   "outputs": [],
   "source": []
  }
 ],
 "metadata": {
  "kernelspec": {
   "display_name": "Python 3",
   "language": "python",
   "name": "python3"
  },
  "language_info": {
   "codemirror_mode": {
    "name": "ipython",
    "version": 3
   },
   "file_extension": ".py",
   "mimetype": "text/x-python",
   "name": "python",
   "nbconvert_exporter": "python",
   "pygments_lexer": "ipython3",
   "version": "3.10.10"
  }
 },
 "nbformat": 4,
 "nbformat_minor": 2
}
